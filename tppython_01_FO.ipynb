{
  "nbformat": 4,
  "nbformat_minor": 0,
  "metadata": {
    "colab": {
      "name": "Copie de tppython_01_FO.ipynb",
      "provenance": [],
      "collapsed_sections": [],
      "authorship_tag": "ABX9TyOqU3yC8GYZdJj1RMagNS+I",
      "include_colab_link": true
    },
    "kernelspec": {
      "name": "python3",
      "display_name": "Python 3"
    }
  },
  "cells": [
    {
      "cell_type": "markdown",
      "metadata": {
        "id": "view-in-github",
        "colab_type": "text"
      },
      "source": [
        "<a href=\"https://colab.research.google.com/github/fogim88et/fotest/blob/master/tppython_01_FO.ipynb\" target=\"_parent\"><img src=\"https://colab.research.google.com/assets/colab-badge.svg\" alt=\"Open In Colab\"/></a>"
      ]
    },
    {
      "cell_type": "markdown",
      "metadata": {
        "id": "DUyuabwl1LAM"
      },
      "source": [
        "Mon premier exercice : instruction print"
      ]
    },
    {
      "cell_type": "code",
      "metadata": {
        "colab": {
          "base_uri": "https://localhost:8080/"
        },
        "id": "wNCHeD1g1JF2",
        "outputId": "a16e2324-eec5-4463-ed40-443254290c0b"
      },
      "source": [
        "print(\"salut\")"
      ],
      "execution_count": null,
      "outputs": [
        {
          "output_type": "stream",
          "text": [
            "salut\n"
          ],
          "name": "stdout"
        }
      ]
    },
    {
      "cell_type": "markdown",
      "metadata": {
        "id": "rAnqybtG1e-S"
      },
      "source": [
        "Exercice 2 : calcule de trg à part ......;:"
      ]
    },
    {
      "cell_type": "code",
      "metadata": {
        "colab": {
          "base_uri": "https://localhost:8080/"
        },
        "id": "Hmy6_U3d1gjR",
        "outputId": "b3664d0f-900f-4be3-e38f-641b65ab14cc"
      },
      "source": [
        "tu = 97\n",
        "to = 100\n",
        "trg = tu/to\n",
        "# on met la variable err à VRAI (true) si le trg n'est pas compris entre 0 et 1\n",
        "err = not ((trg>=0) and (trg<=1))\n",
        "print (err)"
      ],
      "execution_count": null,
      "outputs": [
        {
          "output_type": "stream",
          "text": [
            "False\n"
          ],
          "name": "stdout"
        }
      ]
    }
  ]
}